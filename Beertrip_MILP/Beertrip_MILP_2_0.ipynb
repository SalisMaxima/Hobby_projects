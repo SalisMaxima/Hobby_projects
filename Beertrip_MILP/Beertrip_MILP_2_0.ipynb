{
 "cells": [
  {
   "cell_type": "code",
   "execution_count": 74,
   "metadata": {},
   "outputs": [],
   "source": [
    "\n",
    "import gurobipy as gp\n",
    "import numpy as np\n",
    "from gurobipy import GRB\n"
   ]
  },
  {
   "cell_type": "markdown",
   "metadata": {},
   "source": [
    "# Decision-Making Optimization for Buying Beer: Documentation\n",
    "\n",
    "This documentation explains the purpose and functionality of the provided Python script, which utilizes the Gurobi Python library to model a decision-making problem related to buying beer in either Denmark or Germany. The script uses Mixed Integer Linear Programming (MILP) to determine the optimal choice based on cost considerations. Below is a detailed breakdown of the script's components and logic:\n",
    "\n",
    "## Script Purpose:\n",
    "The script aims to determine whether it is more cost-effective to buy beer in Denmark or Germany, considering various factors such as prices, travel expenses, and capacity constraints. It formulates this decision as a Mixed Integer Linear Programming (MILP) problem and solves it to find the optimal solution.\n",
    "\n",
    "## Key Constants:\n",
    "The script defines several constants that represent various costs, capacities, and parameters. These constants can be modified to reflect the current values. Here are the key constants and their descriptions:\n",
    "\n",
    "- `p_soda_dk_avg`: Average price of soda in Denmark.\n",
    "- `p_beer_dk_avg`: Average price of beer in Denmark.\n",
    "- `p_soda_Ger_avg`: Average price of soda in Germany.\n",
    "- `p_beer_Ger_avg`: Average price of beer in Germany.\n",
    "- `f_van_rent`: Cost of renting a van.\n",
    "- `d_gas_price`: Gasoline price per liter.\n",
    "- `KM_per_L`: Kilometers per liter (fuel efficiency).\n",
    "- `KM_DK_Ger`: Distance from Denmark to Germany (round trip).\n",
    "- `f_weshare`: Miscellaneous expenses for the trip.\n",
    "- `d_ferry_price`: Cost of taking a ferry.\n",
    "- `d_pizzas`: Cost of pizzas.\n",
    "- `van_max_capacity`: Maximum capacity of the van (in kg).\n",
    "- `w_24_pack`: Weight of a 24-pack of beer (in kg).\n",
    "- `max_alcohol_packs`: Maximum number of alcohol packs allowed.\n",
    "- `Oscar_gets_a_fine`: Fine for a specific situation.\n",
    "\n",
    "## Key Calculations:\n",
    "Before defining the optimization problem, the script calculates some key numbers:\n",
    "\n",
    "- `Max_packs`: Maximum number of 24-packs that can fit in the van.\n",
    "- `Gas_usage`: Total gas consumption for the trip.\n",
    "- `Gas_cost`: Total cost of gasoline for the trip.\n",
    "\n",
    "## Optimization Problem:\n",
    "The script defines and solves an MILP problem using Gurobi. Here are the main components of the optimization problem:\n",
    "\n",
    "1. **Model Creation**: A new Gurobi model named \"mip1\" is created.\n",
    "\n",
    "2. **Decision Variables**:\n",
    "   - `x_beer_dk`: Number of 24-packs of beer bought in Denmark.\n",
    "   - `x_beer_Ger`: Number of 24-packs of beer bought in Germany.\n",
    "   - `x_soda_dk`: Number of 24-packs of soda bought in Denmark.\n",
    "   - `x_soda_Ger`: Number of 24-packs of soda bought in Germany.\n",
    "   - `y_dk`: Binary variable (1 if buying in Denmark, 0 otherwise).\n",
    "   - `y_Ger`: Binary variable (1 if buying in Germany, 0 otherwise).\n",
    "\n",
    "3. **Objective Function**:\n",
    "   The objective function is to minimize the total cost, considering the prices of beer, soda, travel expenses, and fines.\n",
    "\n",
    "4. **Constraints**:\n",
    "   - Capacity constraints: Limit the number of 24-packs based on van capacity.\n",
    "   - Alcohol pack constraints: Limit the number of alcohol packs.\n",
    "   - Country selection constraints: Ensure that only one country is chosen.\n",
    "   - Buy at least 1 beer and 1 soda: Guarantee the purchase of at least one 24-pack of beer and one 24-pack of soda.\n",
    "   - Exclusive beer purchase: Ensure that beer is bought in only one country.\n",
    "   - Exclusive soda purchase: Ensure that soda is bought in only one country.\n",
    "   - Pack range constraints: Control the number of packs within a specified range.\n",
    "   - Germany beer minimum: If buying in Germany, at least 40 packs of beer must be bought.\n",
    "\n",
    "5. **Optimization**:\n",
    "   The script optimizes the MILP problem to find the optimal solution.\n",
    "\n",
    "6. **Result Display**:\n",
    "   The script displays the optimal solution, including the quantities of items to buy and the total cost.\n",
    "\n",
    "## Note:\n",
    "- The script always chooses the option with the lowest cost.\n",
    "- Users can adjust the pack range if they have specific preferences on the total number of packs to buy.\n",
    "- It is possible to introduce a Lagrangian term in the objective function to account for the value of time spent traveling.\n",
    "\n",
    "## Additional Resources:\n",
    "- For more information on Lagrangian methods: [Lagrangian Methods](https://en.wikipedia.org/wiki/Augmented_Lagrangian_method)\n",
    "- Further learning on Integer Programming or Operations Research is recommended for a deeper understanding of these techniques."
   ]
  },
  {
   "cell_type": "markdown",
   "metadata": {},
   "source": [
    "This Script attempts to model the decision to either buy beer in Germany or in Denmark via stating it as a Mixed Integer Linear program problem.\n",
    "Following are the variables which can be changed to the current values:"
   ]
  },
  {
   "cell_type": "code",
   "execution_count": 75,
   "metadata": {},
   "outputs": [
    {
     "name": "stdout",
     "output_type": "stream",
     "text": [
      "110.66666666666667 170.66666666666666 55.333333333333336 88.0\n"
     ]
    }
   ],
   "source": [
    "# Prices for soda and beer in DK and Germany as of summer 2023\n",
    "p_soda_dk_avg = np.mean([90,90,80]) + 24 ## DKK\n",
    "p_beer_dk_avg = np.mean([120,120,200]) + 24 ## DKK\n",
    "p_soda_Ger_avg = np.mean([52,52,62]) ## DKK\n",
    "p_beer_Ger_avg = np.mean([78,78,108]) ## DKK\n",
    "print(p_soda_dk_avg, p_beer_dk_avg, p_soda_Ger_avg, p_beer_Ger_avg)\n",
    "f_van_rent = 886.4 ## DKK\n",
    "d_gas_price = 14.49 ##DKK/L\n",
    "\n",
    "KM_per_L = 14 ## KM/L\n",
    "\n",
    "KM_DK_Ger = 338 ## KM\n",
    "\n",
    "f_weshare = 1000 ## DKK\n",
    "\n",
    "d_ferry_price = 319 ## DKK\n",
    "\n",
    "d_pizzas = 240 ## DKK\n",
    "\n",
    "van_max_capacity = 1036 ##kg\n",
    "w_24_pack = 9 ##kg\n",
    "\n",
    "max_alcohol_packs = 40 ## 24 packs\n",
    "\n",
    "Oscar_gets_a_fine = 1000 ## DKK ## Oscar forgot his passport\n",
    "\n"
   ]
  },
  {
   "cell_type": "markdown",
   "metadata": {},
   "source": [
    "Now to calculate some of the key numbers:"
   ]
  },
  {
   "cell_type": "code",
   "execution_count": 76,
   "metadata": {},
   "outputs": [
    {
     "name": "stdout",
     "output_type": "stream",
     "text": [
      "Gas cost:  349.83\n",
      "Max packs:  115.11111111111111\n",
      "Gas usage:  24.142857142857142\n"
     ]
    }
   ],
   "source": [
    "Max_packs = van_max_capacity/w_24_pack \n",
    "\n",
    "Gas_usage = KM_DK_Ger/KM_per_L\n",
    "\n",
    "Gas_cost = Gas_usage*d_gas_price\n",
    "\n",
    "print(\"Gas cost: \", Gas_cost)\n",
    "print(\"Max packs: \", Max_packs)\n",
    "print(\"Gas usage: \", Gas_usage)\n",
    "\n",
    "#But actually we only have space for like 90 packs, until we have to start putting them on the seats\n",
    "Max_packs = 80  ## 24 packs\n",
    "\n",
    "# Pack range \n",
    "pack_range = range(Max_packs, Max_packs+2)"
   ]
  },
  {
   "cell_type": "markdown",
   "metadata": {},
   "source": [
    "Now to state the optimization problem\n"
   ]
  },
  {
   "cell_type": "code",
   "execution_count": 77,
   "metadata": {},
   "outputs": [
    {
     "name": "stdout",
     "output_type": "stream",
     "text": [
      "Gurobi Optimizer version 10.0.3 build v10.0.3rc0 (win64)\n",
      "\n",
      "CPU model: AMD Ryzen 7 4700U with Radeon Graphics, instruction set [SSE2|AVX|AVX2]\n",
      "Thread count: 8 physical cores, 8 logical processors, using up to 8 threads\n",
      "\n",
      "Optimize a model with 11 rows, 6 columns and 25 nonzeros\n",
      "Model fingerprint: 0x32509345\n",
      "Variable types: 0 continuous, 6 integer (2 binary)\n",
      "Coefficient statistics:\n",
      "  Matrix range     [1e+00, 8e+01]\n",
      "  Objective range  [6e+01, 2e+03]\n",
      "  Bounds range     [1e+00, 1e+00]\n",
      "  RHS range        [1e+00, 8e+01]\n",
      "Presolve removed 11 rows and 6 columns\n",
      "Presolve time: 0.00s\n",
      "Presolve: All rows and columns removed\n",
      "\n",
      "Explored 0 nodes (0 simplex iterations) in 0.01 seconds (0.00 work units)\n",
      "Thread count was 1 (of 8 available processors)\n",
      "\n",
      "Solution count 1: 7642.16 \n",
      "\n",
      "Optimal solution found (tolerance 1.00e-04)\n",
      "Best objective 7.642163333333e+03, best bound 7.642163333333e+03, gap 0.0000%\n",
      "x_beer_dk 0\n",
      "x_beer_Ger 40\n",
      "x_soda_dk 0\n",
      "x_soda_Ger 40\n",
      "y_dk 0\n",
      "y_Ger 1\n",
      "Obj: 7642.16\n"
     ]
    }
   ],
   "source": [
    "try:\n",
    "    # Create a new model\n",
    "    m = gp.Model(\"mip1\")\n",
    "\n",
    "    # Create variables\n",
    "    x_beer_dk = m.addVar(vtype=GRB.INTEGER, name=\"x_beer_dk\")  # 24 packs\n",
    "    x_beer_Ger = m.addVar(vtype=GRB.INTEGER, name=\"x_beer_Ger\")  # 24 packs\n",
    "    x_soda_dk = m.addVar(vtype=GRB.INTEGER, name=\"x_soda_dk\")  # 24 packs\n",
    "    x_soda_Ger = m.addVar(vtype=GRB.INTEGER, name=\"x_soda_Ger\")  # 24 packs\n",
    "    y_dk = m.addVar(vtype=GRB.BINARY, name=\"y_dk\")  # Only one country\n",
    "    y_Ger = m.addVar(vtype=GRB.BINARY, name=\"y_Ger\")  # Only one country\n",
    "\n",
    "    # Set objective\n",
    "    m.setObjective((x_beer_dk * p_beer_dk_avg + x_soda_dk * p_soda_dk_avg + y_dk * f_weshare)+\n",
    "                   (x_soda_Ger * p_soda_Ger_avg + x_beer_Ger * p_beer_Ger_avg +\n",
    "                    y_Ger * (d_ferry_price + d_pizzas + Gas_cost + Oscar_gets_a_fine)), GRB.MINIMIZE)\n",
    "\n",
    "    # Add constraint: maximum packs due to van capacity\n",
    "    m.addConstr(x_beer_Ger + x_soda_Ger <= Max_packs, \"c0\")\n",
    "\n",
    "    # Add constraint: maximum packs of alcohol\n",
    "    m.addConstr(x_beer_Ger <= max_alcohol_packs, \"c1\")\n",
    "\n",
    "    # Add constraint: only one country\n",
    "    m.addConstr(y_dk + y_Ger <= 1, \"c2\")\n",
    "\n",
    "    # Add constraint: Buy at least 1 beer 24 pack and 1 soda 24 pack\n",
    "    m.addConstr(x_beer_Ger + x_beer_dk >= 1, \"c3\")\n",
    "\n",
    "    # Add constraint: Buy at least 1 beer 24 pack and 1 soda 24 pack\n",
    "    m.addConstr(x_soda_Ger + x_soda_Ger >= 1, \"c4\")\n",
    "\n",
    "    # Add constraint: Can only buy beer at either DK or Ger\n",
    "    m.addConstr(x_beer_Ger <= y_Ger*max_alcohol_packs, \"c5\")\n",
    "\n",
    "    # Add constraint: Can only buy beer at either DK or Ger\n",
    "    m.addConstr(x_soda_Ger <= y_Ger*Max_packs, \"c6\")\n",
    "\n",
    "    # Add constraint: Can only buy beer at either DK or Ger\n",
    "    m.addConstr(x_soda_dk + x_beer_dk <= y_dk*Max_packs, \"c7\")\n",
    "\n",
    "    # Add constraint: Packs needs to be within range\n",
    "    m.addConstr(x_beer_dk + x_soda_dk + x_beer_Ger + x_soda_Ger<= pack_range[1], \"c8\")\n",
    "    m.addConstr(x_beer_dk + x_soda_dk + x_beer_Ger + x_soda_Ger >= pack_range[0], \"c9\")\n",
    "\n",
    "    # Add constraint: No maatter what if we buy beer in Germany then 40 packs needs to be bought\n",
    "    m.addConstr(x_beer_Ger >= y_Ger*max_alcohol_packs, \"c10\")\n",
    "    \n",
    "    # Optimize model\n",
    "    m.optimize()\n",
    "\n",
    "    for v in m.getVars():\n",
    "        print('%s %g' % (v.VarName, v.X))\n",
    "\n",
    "    print('Obj: %g' % m.ObjVal)\n",
    "\n",
    "except gp.GurobiError as e:\n",
    "    print('Error code ' + str(e.errno) + ': ' + str(e))\n",
    "\n",
    "except AttributeError:\n",
    "    print('Encountered an attribute error')\n"
   ]
  },
  {
   "cell_type": "markdown",
   "metadata": {},
   "source": [
    "Above is seen the optimal solution. Do note that this will always choose the minimal cost option. Meaning if you have any strong opinions on how many cases in totatl should be bought then set the range accordingly."
   ]
  },
  {
   "cell_type": "markdown",
   "metadata": {},
   "source": [
    "However do note that it chooses the option with the lowest cost and thus it shows that germany is the cheaper option here.\n"
   ]
  },
  {
   "cell_type": "markdown",
   "metadata": {},
   "source": [
    "If you wish to take into account that it is troublesome to go to Germany you can add an Lagrangian term in the objective function that penalizes with whatever you decide your time is worth. \n",
    "For an example you could set 3 guys time for a day to be worth 2000 dkk. If so then you could make a term y_ger*2000 dkk. For more info on Lagrangian go to: https://en.wikipedia.org/wiki/Augmented_Lagrangian_method or take the Integer Programming Course or Operations Research course"
   ]
  },
  {
   "cell_type": "markdown",
   "metadata": {},
   "source": [
    "### Plotting the solutions \n"
   ]
  },
  {
   "cell_type": "code",
   "execution_count": 78,
   "metadata": {},
   "outputs": [
    {
     "data": {
      "image/png": "[encoded data removed]",
      "text/plain": [
       "<Figure size 640x480 with 1 Axes>"
      ]
     },
     "metadata": {},
     "output_type": "display_data"
    }
   ],
   "source": [
    "# Plot the solution\n",
    "import matplotlib.pyplot as plt;\n",
    "\n",
    "# Extract solution information\n",
    "\n",
    "x_beer_Ger_value = x_beer_Ger.X\n",
    "x_soda_Ger_value = x_soda_Ger.X\n",
    "x_soda_dk_value = Max_packs-x_beer_dk_value\n",
    "x_beer_dk_value = max_alcohol_packs\n",
    "\n",
    "# Calculate total cost for the optimal solution\n",
    "optimal_cost = m.ObjVal;\n",
    "\n",
    "# Calculate total cost for the solution where all items are bought in Denmark\n",
    "all_dk_cost = (x_beer_dk_value * p_beer_dk_avg + x_soda_dk_value * p_soda_dk_avg + f_weshare);\n",
    "\n",
    "# Create a bar plot to compare the costs\n",
    "categories = ['Optimal Solution', 'All in Denmark']\n",
    "costs = [optimal_cost, all_dk_cost]\n",
    "\n",
    "plt.bar(categories, costs, color=['black', 'red'])\n",
    "plt.ylabel('Total Cost (DKK)')\n",
    "plt.title('Total cost of Optimal Solution (Germany) vs All bought in Denmark')\n",
    "plt.show();\n"
   ]
  },
  {
   "cell_type": "code",
   "execution_count": 79,
   "metadata": {},
   "outputs": [
    {
     "data": {
      "image/png": "[encoded data removed]",
      "text/plain": [
       "<Figure size 640x480 with 1 Axes>"
      ]
     },
     "metadata": {},
     "output_type": "display_data"
    }
   ],
   "source": [
    "# Calculate price per can for optimal solution\n",
    "price_per_can_optimal = optimal_cost / (x_beer_Ger_value*24 + x_soda_Ger_value*24)\n",
    "\n",
    "# Calculate price per can for all bought in Denmark\n",
    "price_per_can_denmark = all_dk_cost / (x_soda_dk_value*24 + x_beer_dk_value*24)\n",
    "\n",
    "# Create a bar plot to compare the price per can\n",
    "categories = ['Optimal Solution', 'All in Denmark']\n",
    "prices_per_can = [price_per_can_optimal, price_per_can_denmark]\n",
    "\n",
    "# Create bars for Germany and Denmark\n",
    "bars = plt.bar(categories, prices_per_can, color=['black', 'red'])\n",
    "\n",
    "# Add a legend for Germany and Denmark\n",
    "plt.legend(bars, ['Germany', 'Denmark'], loc='upper left')\n",
    "\n",
    "plt.ylabel('Price per can (DKK)')\n",
    "plt.title('Price per can for Optimal Solution (Germany) vs All bought in Denmark')\n",
    "plt.show()"
   ]
  }
 ],
 "metadata": {
  "kernelspec": {
   "display_name": "Python 3",
   "language": "python",
   "name": "python3"
  },
  "language_info": {
   "codemirror_mode": {
    "name": "ipython",
    "version": 3
   },
   "file_extension": ".py",
   "mimetype": "text/x-python",
   "name": "python",
   "nbconvert_exporter": "python",
   "pygments_lexer": "ipython3",
   "version": "3.8.5"
  },
  "orig_nbformat": 4
 },
 "nbformat": 4,
 "nbformat_minor": 2
}
