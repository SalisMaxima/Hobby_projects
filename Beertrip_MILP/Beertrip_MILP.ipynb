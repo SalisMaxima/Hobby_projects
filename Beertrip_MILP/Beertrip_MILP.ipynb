{
 "cells": [
  {
   "cell_type": "code",
   "execution_count": 32,
   "metadata": {},
   "outputs": [],
   "source": [
    "import gurobipy as gp\n",
    "import numpy as np\n",
    "from gurobipy import GRB\n"
   ]
  },
  {
   "cell_type": "markdown",
   "metadata": {},
   "source": [
    "This Script attempts to model the decision to either buy beer in Germany or in Denmark via stating it as a Mixed Integer Linear program problem.\n",
    "Following are the variables which can be changed to the current values:"
   ]
  },
  {
   "cell_type": "code",
   "execution_count": 33,
   "metadata": {},
   "outputs": [],
   "source": [
    "# Prices for soda and beer in DK and Germany as of summer 2023\n",
    "p_soda_dk_avg = np.mean([90,90,80]) + 24 ## DKK\n",
    "p_beer_dk_avg = np.mean([120,120,200]) + 24 ## DKK\n",
    "p_soda_Ger_avg = np.mean([52,52,62]) ## DKK\n",
    "p_beer_Ger_avg = np.mean([78,78,108]) ## DKK\n",
    "\n",
    "f_van_rent = 886.4 ## DKK\n",
    "d_gas_price = 14.49 ##DKK/L\n",
    "\n",
    "KM_per_L = 14 ## KM/L\n",
    "\n",
    "KM_DK_Ger = 338 ## KM\n",
    "\n",
    "f_weshare = 1000 ## DKK\n",
    "\n",
    "d_ferry_price = 319 ## DKK\n",
    "\n",
    "d_pizzas = 240 ## DKK\n",
    "\n",
    "van_max_capacity = 1036 ##kg\n",
    "w_24_pack = 9 ##kg\n",
    "\n",
    "max_alcohol_packs = 40 ## 24 packs\n",
    "\n",
    "Oscar_gets_a_fine = 1000 ## DKK ## Oscar forgot his passport"
   ]
  },
  {
   "cell_type": "markdown",
   "metadata": {},
   "source": [
    "Now to calculate some of the key numbers:"
   ]
  },
  {
   "cell_type": "code",
   "execution_count": 34,
   "metadata": {},
   "outputs": [
    {
     "name": "stdout",
     "output_type": "stream",
     "text": [
      "Gas cost:  349.83\n",
      "Max packs:  115.11111111111111\n",
      "Gas usage:  24.142857142857142\n"
     ]
    }
   ],
   "source": [
    "Max_packs = van_max_capacity/w_24_pack \n",
    "\n",
    "Gas_usage = KM_DK_Ger/KM_per_L\n",
    "\n",
    "Gas_cost = Gas_usage*d_gas_price\n",
    "\n",
    "print(\"Gas cost: \", Gas_cost)\n",
    "print(\"Max packs: \", Max_packs)\n",
    "print(\"Gas usage: \", Gas_usage)\n",
    "\n",
    "#But actually we only have space for like 90 packs, until we have to start putting them on the seats\n",
    "Max_packs = 90  ## 24 packs"
   ]
  },
  {
   "cell_type": "markdown",
   "metadata": {},
   "source": [
    "Now to state the optimization problem\n"
   ]
  },
  {
   "cell_type": "code",
   "execution_count": 35,
   "metadata": {},
   "outputs": [
    {
     "name": "stdout",
     "output_type": "stream",
     "text": [
      "Encountered an attribute error\n"
     ]
    }
   ],
   "source": [
    "try:\n",
    "    # Create a new model\n",
    "    m = gp.Model(\"mip1\")\n",
    "\n",
    "    # Create variables\n",
    "    x_beer_dk = m.addVar(vtype=GRB.Integer, name=\"x\") ## 24 packs\n",
    "    x_beer_Ger = m.addVar(vtype=GRB.Integer, name=\"x\") ## 24 packs\n",
    "    x_soda_dk = m.addVar(vtype=GRB.Integer, name=\"x\") ## 24 packs\n",
    "    x_soda_Ger = m.addVar(vtype=GRB.Integer, name=\"x\") ## 24 packs\n",
    "    y_dk = m.addVar(vtype=GRB.BINARY, name=\"y\") ## Only one country\n",
    "    y_Ger = m.addVar(vtype=GRB.BINARY, name=\"y\") ## Only one country\n",
    "\n",
    "    # Set objective\n",
    "    m.setObjective((x_beer_dk*p_beer_dk_avg + x_soda_dk*p_soda_dk_avg + y_dk*f_weshare) + (x_soda_Ger*p_soda_Ger_avg + x_beer_Ger*p_beer_Ger_avg + y_ger*(d_ferry_price + d_pizzas + Gas_cost + Oscar_gets_a_fine) ), GRB.MINIMIZE)\n",
    "\n",
    "    # Add constraint: maximum packs due to van capacity\n",
    "    m.addConstr(x_beer_Ger + x_soda_Ger <= Max_packs, \"c0\")\n",
    "\n",
    "    # Add constraint: maximum packs of alcohol\n",
    "    m.addConstr(x_beer_Ger <= max_alcohol_packs, \"c1\")\n",
    "\n",
    "    # Add constraint: only one country\n",
    "    m.addConstr(y_dk + y_Ger <= 1, \"c2\")\n",
    "\n",
    "    # Add constraint: Buy at least 1 beer 24 pack and 1 soda 24 pack\n",
    "    m.addConstr(x_beer_Ger + x_beer_dk >= 1, \"c3\")\n",
    "\n",
    "    # Add constraint: Buy at least 1 beer 24 pack and 1 soda 24 pack\n",
    "    m.addConstr(x_soda_Ger + x_soda_Ger >= 1, \"c4\")\n",
    "\n",
    "    # Add constraint: Can only buy beer at either DK or Ger\n",
    "    m.addConstr(x_beer_Ger <= y_Ger*max_alcohol_packs, \"c5\")\n",
    "\n",
    "    # Add constraint: Can only buy beer at either DK or Ger\n",
    "    m.addConstr(x_soda_Ger <= y_Ger*Max_packs, \"c6\")\n",
    "\n",
    "    # Add constraint: Can only buy beer at either DK or Ger\n",
    "    m.addConstr(x_soda_dk + x_beer_dk <= y_dk*Max_packs, \"c7\")\n",
    "\n",
    "    # Optimize model\n",
    "    m.optimize()\n",
    "\n",
    "    for v in m.getVars():\n",
    "        print('%s %g' % (v.VarName, v.X))\n",
    "\n",
    "    print('Obj: %g' % m.ObjVal)\n",
    "\n",
    "except gp.GurobiError as e:\n",
    "    print('Error code ' + str(e.errno) + ': ' + str(e))\n",
    "\n",
    "except AttributeError:\n",
    "    print('Encountered an attribute error')"
   ]
  }
 ],
 "metadata": {
  "kernelspec": {
   "display_name": "Python 3",
   "language": "python",
   "name": "python3"
  },
  "language_info": {
   "codemirror_mode": {
    "name": "ipython",
    "version": 3
   },
   "file_extension": ".py",
   "mimetype": "text/x-python",
   "name": "python",
   "nbconvert_exporter": "python",
   "pygments_lexer": "ipython3",
   "version": "3.11.5"
  },
  "orig_nbformat": 4
 },
 "nbformat": 4,
 "nbformat_minor": 2
}
