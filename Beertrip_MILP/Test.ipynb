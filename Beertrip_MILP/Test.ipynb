{
 "cells": [
  {
   "cell_type": "code",
   "execution_count": 1,
   "metadata": {},
   "outputs": [
    {
     "name": "stdout",
     "output_type": "stream",
     "text": [
      "Set parameter Username\n",
      "Gurobi Optimizer version 10.0.3 build v10.0.3rc0 (win64)\n",
      "\n",
      "CPU model: 13th Gen Intel(R) Core(TM) i5-13600KF, instruction set [SSE2|AVX|AVX2]\n",
      "Thread count: 14 physical cores, 20 logical processors, using up to 20 threads\n",
      "\n",
      "Optimize a model with 2 rows, 3 columns and 5 nonzeros\n",
      "Model fingerprint: 0x98886187\n",
      "Variable types: 0 continuous, 3 integer (3 binary)\n",
      "Coefficient statistics:\n",
      "  Matrix range     [1e+00, 3e+00]\n",
      "  Objective range  [1e+00, 2e+00]\n",
      "  Bounds range     [1e+00, 1e+00]\n",
      "  RHS range        [1e+00, 4e+00]\n",
      "Found heuristic solution: objective 2.0000000\n",
      "Presolve removed 2 rows and 3 columns\n",
      "Presolve time: 0.01s\n",
      "Presolve: All rows and columns removed\n",
      "\n",
      "Explored 0 nodes (0 simplex iterations) in 0.02 seconds (0.00 work units)\n",
      "Thread count was 1 (of 20 available processors)\n",
      "\n",
      "Solution count 2: 3 2 \n",
      "\n",
      "Optimal solution found (tolerance 1.00e-04)\n",
      "Best objective 3.000000000000e+00, best bound 3.000000000000e+00, gap 0.0000%\n",
      "x 1\n",
      "y 0\n",
      "z 1\n",
      "Obj: 3\n"
     ]
    }
   ],
   "source": [
    "# This example formulates and solves the following simple MIP model:\n",
    "#  maximize\n",
    "#        x +   y + 2 z\n",
    "#  subject to\n",
    "#        x + 2 y + 3 z <= 4\n",
    "#        x +   y       >= 1\n",
    "#        x, y, z binary\n",
    "\n",
    "import gurobipy as gp\n",
    "from gurobipy import GRB\n",
    "\n",
    "try:\n",
    "\n",
    "    # Create a new model\n",
    "    m = gp.Model(\"mip1\")\n",
    "\n",
    "    # Create variables\n",
    "    x = m.addVar(vtype=GRB.BINARY, name=\"x\")\n",
    "    y = m.addVar(vtype=GRB.BINARY, name=\"y\")\n",
    "    z = m.addVar(vtype=GRB.BINARY, name=\"z\")\n",
    "\n",
    "    # Set objective\n",
    "    m.setObjective(x + y + 2 * z, GRB.MAXIMIZE)\n",
    "\n",
    "    # Add constraint: x + 2 y + 3 z <= 4\n",
    "    m.addConstr(x + 2 * y + 3 * z <= 4, \"c0\")\n",
    "\n",
    "    # Add constraint: x + y >= 1\n",
    "    m.addConstr(x + y >= 1, \"c1\")\n",
    "\n",
    "    # Optimize model\n",
    "    m.optimize()\n",
    "\n",
    "    for v in m.getVars():\n",
    "        print('%s %g' % (v.VarName, v.X))\n",
    "\n",
    "    print('Obj: %g' % m.ObjVal)\n",
    "\n",
    "except gp.GurobiError as e:\n",
    "    print('Error code ' + str(e.errno) + ': ' + str(e))\n",
    "\n",
    "except AttributeError:\n",
    "    print('Encountered an attribute error')"
   ]
  }
 ],
 "metadata": {
  "kernelspec": {
   "display_name": "Python 3",
   "language": "python",
   "name": "python3"
  },
  "language_info": {
   "codemirror_mode": {
    "name": "ipython",
    "version": 3
   },
   "file_extension": ".py",
   "mimetype": "text/x-python",
   "name": "python",
   "nbconvert_exporter": "python",
   "pygments_lexer": "ipython3",
   "version": "3.11.5"
  },
  "orig_nbformat": 4
 },
 "nbformat": 4,
 "nbformat_minor": 2
}
